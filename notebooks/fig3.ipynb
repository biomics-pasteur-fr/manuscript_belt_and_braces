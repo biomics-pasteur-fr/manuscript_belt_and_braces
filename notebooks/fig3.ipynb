{
 "cells": [
  {
   "cell_type": "markdown",
   "id": "d764b504-290c-4f21-a447-6c93e4287418",
   "metadata": {},
   "source": [
    "# Fig 3b and data Egill Richard et al 2023-2024"
   ]
  },
  {
   "cell_type": "code",
   "execution_count": 187,
   "id": "09613fe2-1840-4b43-98f5-e89e4486358d",
   "metadata": {},
   "outputs": [],
   "source": [
    "%matplotlib inline\n",
    "from pylab import *\n",
    "from sequana import *\n",
    "from sequana.freebayes_vcf_filter import Variant\n",
    "import pandas as pd\n",
    "from collections import Counter"
   ]
  },
  {
   "cell_type": "markdown",
   "id": "afd071f1-97a8-49c7-8ad4-efb720c723a7",
   "metadata": {},
   "source": []
  },
  {
   "cell_type": "markdown",
   "id": "529818c8-42b5-4170-b499-03c81ad338b9",
   "metadata": {},
   "source": [
    "# The data\n",
    "\n",
    "- EV057-INV_L001.filter.vcf and EVO57-REINV_S4_L001.filter.vcf are the output of the Sequana variant-calling pipeline\n",
    "- sanger data here below contains the position and frequencies of Sanger sequencing runs (42 samples).\n",
    "- int1A gene is in the region 1449-2411"
   ]
  },
  {
   "cell_type": "code",
   "execution_count": 751,
   "id": "563160fb-59cb-477e-9538-964f7dd2d13d",
   "metadata": {},
   "outputs": [],
   "source": [
    "# data from 42 PCRs\n",
    "position_sanger = [57.0, 126.0, 163.0, 172.0, 205.0, 209.0, 227.0, 242.0, 489.0, 500.0, 571.0, 607.0, 669.0, 803.0, 825.0, 829.0, 835.0, 849.0, 860.0]\n",
    "frequency_sanger = [0.45238095, 0.02380952, 0.02380952, 0.02380952, 0.04761905, 0.02380952, 0.02380952, 0.02380952, 0.02380952, 0.07142857, 0.02380952, 0.02380952, 0.02380952, 0.02380952, 0.02380952, 0.04761905, 0.02380952, 0.02380952, 0.02380952]"
   ]
  },
  {
   "cell_type": "code",
   "execution_count": 814,
   "id": "48e6ff53-195c-4412-9559-733b704f8e10",
   "metadata": {},
   "outputs": [],
   "source": [
    "vcf_inv = VCF_freebayes(\"EVO57-INV_L001.filter.vcf\")\n",
    "df = pd.DataFrame([v.resume for v in vcf_inv.get_variants()])\n",
    "df['position'] = [int(x) for x in df['position']]\n",
    "df_inv = df"
   ]
  },
  {
   "cell_type": "code",
   "execution_count": 815,
   "id": "7d2137c2-78ab-4a8e-a0ff-0e40c4719e9b",
   "metadata": {},
   "outputs": [],
   "source": [
    "vcf_inv = VCF_freebayes(\"EVO57-REINV_S4_L001.filter.vcf\")\n",
    "df = pd.DataFrame([v.resume for v in vcf_reinv.get_variants()])\n",
    "df['position'] = [int(x) for x in df['position']]\n",
    "df_reinv = df"
   ]
  },
  {
   "cell_type": "code",
   "execution_count": 816,
   "id": "427090ab-3769-4d50-bd17-0eccdffdc112",
   "metadata": {},
   "outputs": [
    {
     "data": {
      "text/html": [
       "<div>\n",
       "<style scoped>\n",
       "    .dataframe tbody tr th:only-of-type {\n",
       "        vertical-align: middle;\n",
       "    }\n",
       "\n",
       "    .dataframe tbody tr th {\n",
       "        vertical-align: top;\n",
       "    }\n",
       "\n",
       "    .dataframe thead th {\n",
       "        text-align: right;\n",
       "    }\n",
       "</style>\n",
       "<table border=\"1\" class=\"dataframe\">\n",
       "  <thead>\n",
       "    <tr style=\"text-align: right;\">\n",
       "      <th></th>\n",
       "      <th>chr</th>\n",
       "      <th>position</th>\n",
       "      <th>depth</th>\n",
       "      <th>reference</th>\n",
       "      <th>alternative</th>\n",
       "      <th>type</th>\n",
       "      <th>freebayes_score</th>\n",
       "      <th>strand_balance</th>\n",
       "      <th>fisher_pvalue</th>\n",
       "      <th>frequency</th>\n",
       "      <th>CDS_position</th>\n",
       "      <th>effect_type</th>\n",
       "      <th>codon_change</th>\n",
       "      <th>gene_name</th>\n",
       "      <th>mutation_type</th>\n",
       "      <th>prot_effect</th>\n",
       "      <th>prot_size</th>\n",
       "      <th>effect_impact</th>\n",
       "    </tr>\n",
       "  </thead>\n",
       "  <tbody>\n",
       "    <tr>\n",
       "      <th>277</th>\n",
       "      <td>pJ504</td>\n",
       "      <td>1504</td>\n",
       "      <td>9856</td>\n",
       "      <td>CAAAAAAAAC</td>\n",
       "      <td>CAAAAAAAC; CAAAAAAAAAC; CAAAAAAACC; CAAAAAAAAA</td>\n",
       "      <td>INDEL; INDEL; MNV; MNV</td>\n",
       "      <td>4.567060e-12</td>\n",
       "      <td>0.465; 0.456; 0.375; 0.402</td>\n",
       "      <td>0.47286420464007684; 1.0; 0.0739717857844713; ...</td>\n",
       "      <td>0.219; 0.058; 0.003; 0.012</td>\n",
       "      <td></td>\n",
       "      <td></td>\n",
       "      <td></td>\n",
       "      <td></td>\n",
       "      <td></td>\n",
       "      <td></td>\n",
       "      <td></td>\n",
       "      <td>MODIFIER</td>\n",
       "    </tr>\n",
       "  </tbody>\n",
       "</table>\n",
       "</div>"
      ],
      "text/plain": [
       "       chr  position  depth   reference  \\\n",
       "277  pJ504      1504   9856  CAAAAAAAAC   \n",
       "\n",
       "                                        alternative                    type  \\\n",
       "277  CAAAAAAAC; CAAAAAAAAAC; CAAAAAAACC; CAAAAAAAAA  INDEL; INDEL; MNV; MNV   \n",
       "\n",
       "     freebayes_score              strand_balance  \\\n",
       "277     4.567060e-12  0.465; 0.456; 0.375; 0.402   \n",
       "\n",
       "                                         fisher_pvalue  \\\n",
       "277  0.47286420464007684; 1.0; 0.0739717857844713; ...   \n",
       "\n",
       "                      frequency CDS_position effect_type codon_change  \\\n",
       "277  0.219; 0.058; 0.003; 0.012                                         \n",
       "\n",
       "    gene_name mutation_type prot_effect prot_size effect_impact  \n",
       "277                                                    MODIFIER  "
      ]
     },
     "execution_count": 816,
     "metadata": {},
     "output_type": "execute_result"
    }
   ],
   "source": [
    "# let us check the polyA is found\n",
    "# This position is important and should be found in vcf_inv (not the reinv) as a INDEL with freq>0.2\n",
    "assert \"AAAAAAA\" in df_inv.query(\"position == 1504\").reference.values[0]\n",
    "df_inv.query(\"position == 1504\")"
   ]
  },
  {
   "cell_type": "markdown",
   "id": "4860682b-c76a-460a-a7d6-afdbf290e4ee",
   "metadata": {},
   "source": [
    "# Utility functions"
   ]
  },
  {
   "cell_type": "code",
   "execution_count": 714,
   "id": "ef492bac-16d7-4762-b671-03056989ddac",
   "metadata": {},
   "outputs": [],
   "source": [
    "def get_SNV_INDEL(df, fisher_threshold=0.05):\n",
    "    \"\"\" This function filters the dataframe by keeping SNV and INDEL only\n",
    "\n",
    "    Moreover, ref to multiple SNV are ignored so A->T and A->C at the same position \n",
    "    are ignored. \n",
    "    \n",
    "    If several INDEL, we sum up the frequencies (case of interest is indeed a multiple INDEL.\n",
    "\n",
    "    we also remove variants with Fisher value below 0.05 (unequal strandness)\n",
    "    \"\"\"\n",
    "    positions = []\n",
    "    freqs = []\n",
    "    types = []\n",
    "    for _, row in df.iterrows():\n",
    "        row = row.fillna(1000)\n",
    "        S = 0\n",
    "\n",
    "        _types = \"\"\n",
    "        for _type, freq, fisher in zip(row['type'].split(\";\"), row.frequency.split(\";\"), row.fisher_pvalue.split(\";\")):\n",
    "            _type = _type.strip()\n",
    "            if _type in [\"INDEL\", \"SNV\"] and float(fisher) > fisher_threshold:\n",
    "                S += float(freq)\n",
    "                _types += _type +\";\"\n",
    "        # only single SNV and single INDEL and multiple INDEL\n",
    "        # A -> C is accepted but A->[C, T] is not ; \n",
    "        if _types.count(\";\") == 1 or set([x for x in _types.split(\";\") if x]) == set([\"INDEL\"]):\n",
    "            freqs.append(S)\n",
    "            positions.append(row.position)\n",
    "            types.append(_types.strip(\";\"))\n",
    "    \n",
    "    df = pd.DataFrame({\"position\": positions, \"frequency\":freqs, \"type\":types})\n",
    "    return df"
   ]
  },
  {
   "cell_type": "code",
   "execution_count": 823,
   "id": "e31baa1a-f363-4c1e-9bcd-a1ad32867ae8",
   "metadata": {},
   "outputs": [],
   "source": [
    "def plot_var(df):\n",
    "    \"\"\"This function is used to plot fig3a and c\n",
    "    \n",
    "    \"\"\"\n",
    "    X = list(range(1449,2411))\n",
    "    N = []\n",
    "\n",
    "    for x in X:    \n",
    "        rows = df.query(\"position>=@x and position<@x+1\")\n",
    "        freqs = sum([row.frequency for _, row in rows.iterrows()])\n",
    "        N.append(sum(freqs))\n",
    "     \n",
    "    plt.figure(figsize=(8,5))\n",
    "    bar(X, N, width=10, label=\"df_inv\", zorder=10)\n",
    "    ylim([0,0.5])\n",
    "    _ = xticks([], [])\n",
    "    plt.gca().spines['top'].set_visible(False)\n",
    "    plt.gca().spines['right'].set_visible(False)\n",
    "    yticks([0,0.1,0.2,0.3,0.4,0.5],[\"0\", \"0.1\", \"0.2\", \"0.3\",\"0.4\",\"0.5\" ], fontsize=16)\n",
    "    xticks([1449, 1449+250, 1449+500, 1449+750, 1449+1000],[], fontsize=16)\n",
    "    xlim(1449,1449+1002)\n",
    "    grid(zorder=-10)"
   ]
  },
  {
   "cell_type": "markdown",
   "id": "c35b08c3-e2cd-4292-b902-7c7971b7b1fd",
   "metadata": {},
   "source": [
    "# Plot Fig3-a"
   ]
  },
  {
   "cell_type": "code",
   "execution_count": 828,
   "id": "afd43408-b3d3-446e-b147-f5ea7b7850b3",
   "metadata": {},
   "outputs": [
    {
     "data": {
      "image/png": "[encoded data removed]",
      "text/plain": [
       "<Figure size 800x500 with 1 Axes>"
      ]
     },
     "metadata": {},
     "output_type": "display_data"
    }
   ],
   "source": [
    "df = get_SNV_INDEL(df_inv).query(\"position>=1449 and  position<=2411\")\n",
    "plot_var(df)\n",
    "text(1700,0.42,\"Illumina deep sequencing\\n        SCI Inv D7\", fontsize=20)\n",
    "\n",
    "for ext in \"png\", \"pdf\", \"svg\":\n",
    "    savefig(f\"fig3a.{ext}\", dpi=200)"
   ]
  },
  {
   "cell_type": "markdown",
   "id": "7778bc08-ea25-4042-a069-f3074e547125",
   "metadata": {},
   "source": [
    "# Plot Fig3b"
   ]
  },
  {
   "cell_type": "code",
   "execution_count": 827,
   "id": "0476d144-6802-4321-aa31-1de881ba8fa3",
   "metadata": {},
   "outputs": [
    {
     "data": {
      "image/png": "[encoded data removed]",
      "text/plain": [
       "<Figure size 800x500 with 1 Axes>"
      ]
     },
     "metadata": {},
     "output_type": "display_data"
    }
   ],
   "source": [
    "plt.figure(figsize=(8,5))\n",
    "\n",
    "bar(position_sanger, sanger, width=10, label=\"sanger\", zorder=10)\n",
    "grid(zorder=-10)\n",
    "\n",
    "text(300,0.42,\"Sanger sequencing\\n        SCI Inv D7\", fontsize=20)\n",
    "plt.gca().spines['top'].set_visible(False)\n",
    "plt.gca().spines['right'].set_visible(False)\n",
    "yticks([0,0.1,0.2,0.3,0.4,0.5],[\"0\", \"0.1\", \"0.2\", \"0.3\", \"0.4\",\"0.5\" ], fontsize=16)\n",
    "xticks([0, 250, 500, 750, 1000],[], fontsize=16)\n",
    "xlim(0,1002)\n",
    "for ext in \"png\", \"pdf\", \"svg\":\n",
    "    savefig(f\"fig3b.{ext}\", dpi=200)"
   ]
  },
  {
   "cell_type": "markdown",
   "id": "c5d60b68-d88e-41ac-8c5e-33b1f44d915c",
   "metadata": {},
   "source": [
    "# Plot Fig3c"
   ]
  },
  {
   "cell_type": "code",
   "execution_count": 826,
   "id": "e1521deb-04fa-4c3c-9234-54fc17a901e0",
   "metadata": {},
   "outputs": [
    {
     "data": {
      "image/png": "[encoded data removed]",
      "text/plain": [
       "<Figure size 800x500 with 1 Axes>"
      ]
     },
     "metadata": {},
     "output_type": "display_data"
    }
   ],
   "source": [
    "df = get_SNV_INDEL(df_reinv).query(\"position>=1449 and  position<=2411\")\n",
    "plot_var(df)\n",
    "text(1700,0.42,\"Illumina deep sequencing\\n        SCI Reinv D7\", fontsize=20)\n",
    "xticks([1449, 1449+250, 1449+500, 1449+750, 1449+1000],[0,250,500,750,1000], fontsize=16)\n",
    "for ext in \"png\", \"pdf\", \"svg\":\n",
    "    savefig(f\"fig3c.{ext}\", dpi=200)"
   ]
  },
  {
   "cell_type": "markdown",
   "id": "ce820765-4c70-40df-b053-c7903f8eca04",
   "metadata": {},
   "source": [
    "# Save VCF and filtered VCF"
   ]
  },
  {
   "cell_type": "code",
   "execution_count": 845,
   "id": "3635681f-8c75-4fc5-b922-31622f9840b8",
   "metadata": {},
   "outputs": [],
   "source": [
    "# We will keep those columns. annotation are empty\n",
    "cols = [\"chr\", \"position\", \"depth\", \"reference\", \"alternative\", \"type\", \"freebayes_score\", \"strand_balance\", \"fisher_pvalue\", \"frequency\"]\n",
    "\n",
    "# filter the variants in the region of interest with filters defined above\n",
    "df = get_SNV_INDEL(df_inv).query(\"position>=1449 and  position<=2411\")\n",
    "# map back to original VCF to keep only the variants of interest\n",
    "df1 = df_inv.query(\"position in @df['position']\")\n",
    "df1 = df1[cols]\n",
    "df1['position'] = [x-1449 for x in df1.position]\n",
    "\n",
    "# same for reinv\n",
    "df = get_SNV_INDEL(df_reinv).query(\"position>=1449 and  position<=2411\")\n",
    "df2 = df_reinv.query(\"position in @df['position']\")\n",
    "df2 = df2[cols]\n",
    "df2['position'] = [x-1449 for x in df2.position]\n",
    "\n",
    "# and save\n",
    "with pd.ExcelWriter(\"test.xlsx\") as writer:\n",
    "    df1.reset_index(drop=True).to_excel(writer, sheet_name=\"SCI_Inv\")\n",
    "    df2.reset_index().to_excel(writer, sheet_name=\"SCI_Reinv\")"
   ]
  },
  {
   "cell_type": "code",
   "execution_count": null,
   "id": "69d79983-1914-4bd0-a83f-c3c9e19779e8",
   "metadata": {},
   "outputs": [],
   "source": []
  }
 ],
 "metadata": {
  "kernelspec": {
   "display_name": "Python 3 (ipykernel)",
   "language": "python",
   "name": "python3"
  },
  "language_info": {
   "codemirror_mode": {
    "name": "ipython",
    "version": 3
   },
   "file_extension": ".py",
   "mimetype": "text/x-python",
   "name": "python",
   "nbconvert_exporter": "python",
   "pygments_lexer": "ipython3",
   "version": "3.8.16"
  }
 },
 "nbformat": 4,
 "nbformat_minor": 5
}
